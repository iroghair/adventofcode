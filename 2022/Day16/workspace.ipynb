{
 "cells": [
  {
   "cell_type": "markdown",
   "metadata": {},
   "source": [
    "# Day 16\n",
    "## Imports and settings"
   ]
  },
  {
   "cell_type": "code",
   "execution_count": 1,
   "metadata": {},
   "outputs": [],
   "source": [
    "import re\n",
    "import numpy as np\n",
    "import matplotlib.pyplot as plt\n",
    "from scipy.sparse import csr_matrix\n",
    "from scipy.sparse.csgraph import dijkstra\n",
    "\n",
    "myfile = 'test2.txt'"
   ]
  },
  {
   "cell_type": "markdown",
   "metadata": {},
   "source": [
    "## Import data\n",
    "Get the data from a file and structure it in a dictionary\n",
    "Then sort by valve and give an ID to facilitate the graph build"
   ]
  },
  {
   "cell_type": "code",
   "execution_count": 2,
   "metadata": {},
   "outputs": [
    {
     "name": "stdout",
     "output_type": "stream",
     "text": [
      "Nodes found: ['AA', 'BB', 'CC', 'DD', 'EE', 'FF', 'GG', 'HH', 'II', 'JJ'], total number: 10\n"
     ]
    }
   ],
   "source": [
    "with open(myfile, 'r') as file:\n",
    "    lines = file.readlines()\n",
    "\n",
    "valves = dict()\n",
    "for line in lines:\n",
    "    name = line.split()[1]\n",
    "    flowrate = int(re.findall(r'[0-9]+',line)[0])\n",
    "    coupled = re.findall(r'[A-Z][A-Z]',line.split(';')[1])\n",
    "    valves[name] = {'flowrate': flowrate, 'coupled': coupled}\n",
    "\n",
    "max_valve = len(valves)\n",
    "print(f'Nodes found: {sorted(valves)}, total number: {max_valve}')\n",
    "\n",
    "valve_relief = np.zeros((max_valve,))\n",
    "for i,n in enumerate(sorted([v for v in valves])):\n",
    "    valves[n]['id'] = i\n",
    "    valve_relief[i] = valves[n]['flowrate']\n"
   ]
  },
  {
   "cell_type": "markdown",
   "metadata": {},
   "source": [
    "## Create a network of pipelines/valves\n"
   ]
  },
  {
   "cell_type": "code",
   "execution_count": 3,
   "metadata": {},
   "outputs": [
    {
     "data": {
      "text/plain": [
       "<matplotlib.image.AxesImage at 0x7f2577c70790>"
      ]
     },
     "execution_count": 3,
     "metadata": {},
     "output_type": "execute_result"
    },
    {
     "data": {
      "image/png": "[encoded data removed]",
      "text/plain": [
       "<Figure size 640x480 with 1 Axes>"
      ]
     },
     "metadata": {},
     "output_type": "display_data"
    }
   ],
   "source": [
    "graph = np.zeros((max_valve,max_valve))\n",
    "for v in sorted(valves):\n",
    "    vi = int(valves[v]['id'])\n",
    "    for c in valves[v]['coupled']:\n",
    "        ci = int(valves[c]['id'])\n",
    "        # print(f\"From valve {v} (ID: {valves[v]['id']}) you can move to valve {c} (ID: {valves[c]['id']})\")\n",
    "        graph[vi][ci] = 1\n",
    "\n",
    "plt.imshow(graph)"
   ]
  },
  {
   "cell_type": "code",
   "execution_count": 5,
   "metadata": {},
   "outputs": [],
   "source": [
    "# Pressure relief testing\n",
    "t = 30\n",
    "current_valve = 'AA'\n",
    "\n",
    "while t > 0:\n",
    "    dist_matrix, predecessors = dijkstra(csgraph=graph, directed=False, indices=valves[current_valve]['id'], return_predecessors=True)\n",
    "    \n",
    "    projected_add_relief = (t-dist_matrix) * valve_relief\n",
    "    move_to = np.argmax(projected_add_relief)\n",
    "    \n",
    "\n",
    "    # for v in sorted(valves):\n",
    "    #     vi = int(valves[v]['id'])  \n",
    "    #     # for c in valves[v]['coupled']:\n",
    "    t -= 1"
   ]
  }
 ],
 "metadata": {
  "kernelspec": {
   "display_name": "Python 3.9.12 ('base')",
   "language": "python",
   "name": "python3"
  },
  "language_info": {
   "codemirror_mode": {
    "name": "ipython",
    "version": 3
   },
   "file_extension": ".py",
   "mimetype": "text/x-python",
   "name": "python",
   "nbconvert_exporter": "python",
   "pygments_lexer": "ipython3",
   "version": "3.9.12 (main, Apr  5 2022, 06:56:58) \n[GCC 7.5.0]"
  },
  "orig_nbformat": 4,
  "vscode": {
   "interpreter": {
    "hash": "40d3a090f54c6569ab1632332b64b2c03c39dcf918b08424e98f38b5ae0af88f"
   }
  }
 },
 "nbformat": 4,
 "nbformat_minor": 2
}
