{
 "cells": [
  {
   "cell_type": "code",
   "execution_count": null,
   "metadata": {},
   "outputs": [],
   "source": [
    "from caesarcipher import CaesarCipher\n"
   ]
  },
  {
   "attachments": {},
   "cell_type": "markdown",
   "metadata": {},
   "source": [
    "# Opgave 1c"
   ]
  },
  {
   "cell_type": "code",
   "execution_count": null,
   "metadata": {},
   "outputs": [],
   "source": [
    "for i in range(26):\n",
    "    cipher2 = CaesarCipher('DDGGKLSC',offset=i)\n",
    "    cipher = CaesarCipher('BGNJMKY BMLBCPQ ECZYYLB EYLENYB IYLBCCJ JYQQGLE QJGBGLE YEMEGCI',offset=i)\n",
    "    print(cipher.decoded)"
   ]
  },
  {
   "attachments": {},
   "cell_type": "markdown",
   "metadata": {},
   "source": [
    "# Opgave 4b"
   ]
  },
  {
   "cell_type": "code",
   "execution_count": 7,
   "metadata": {},
   "outputs": [
    {
     "name": "stdout",
     "output_type": "stream",
     "text": [
      "15\n",
      "FGEGODOT\n",
      "EFDFNCNS\n",
      "DECEMBMR\n",
      "CDBDLALQ\n",
      "BCACKZKP\n",
      "ABZBJYJO\n",
      "ZAYAIXIN\n",
      "YZXZHWHM\n",
      "XYWYGVGL\n",
      "WXVXFUFK\n",
      "VWUWETEJ\n",
      "UVTVDSDI\n",
      "TUSUCRCH\n",
      "STRTBQBG\n",
      "RSQSAPAF\n",
      "QRPRZOZE\n",
      "PQOQYNYD\n",
      "OPNPXMXC\n",
      "NOMOWLWB\n",
      "MNLNVKVA\n",
      "LMKMUJUZ\n",
      "KLJLTITY\n",
      "JKIKSHSX\n",
      "IJHJRGRW\n",
      "HIGIQFQV\n",
      "GHFHPEPU\n"
     ]
    }
   ],
   "source": [
    "input = ['BSSTFXDAN', 'ELKQAAV', 'FGAM','IOSWO', 'JDEWNHQ', 'MRPPYNHIS','NCMIFV', 'NRQNJFNEOGDM', 'PAARFEN','QSTYKRENG', 'QYUMFVHNE', 'TEDLMBSIK', 'XMHSQ', 'APNTGUYAN', 'FGEGODOT']\n",
    "\n",
    "print(len(input))\n",
    "# for i in input:\n",
    "#     cipher = CaesarCipher(i)\n",
    "#     print(cipher.cracked)\n",
    "\n",
    "for i in range(26):\n",
    "    cipher = CaesarCipher(input[-1], offset=i)\n",
    "    print(cipher.decoded)\n"
   ]
  }
 ],
 "metadata": {
  "kernelspec": {
   "display_name": "base",
   "language": "python",
   "name": "python3"
  },
  "language_info": {
   "codemirror_mode": {
    "name": "ipython",
    "version": 3
   },
   "file_extension": ".py",
   "mimetype": "text/x-python",
   "name": "python",
   "nbconvert_exporter": "python",
   "pygments_lexer": "ipython3",
   "version": "3.9.12"
  },
  "orig_nbformat": 4,
  "vscode": {
   "interpreter": {
    "hash": "40d3a090f54c6569ab1632332b64b2c03c39dcf918b08424e98f38b5ae0af88f"
   }
  }
 },
 "nbformat": 4,
 "nbformat_minor": 2
}
